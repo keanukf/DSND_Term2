{
 "cells": [
  {
   "cell_type": "code",
   "execution_count": 91,
   "metadata": {},
   "outputs": [],
   "source": [
    "# Import packages\n",
    "import pandas as pd\n",
    "from pynytimes import NYTAPI\n",
    "import datetime\n",
    "import plotly.graph_objs as go"
   ]
  },
  {
   "cell_type": "code",
   "execution_count": 73,
   "metadata": {},
   "outputs": [],
   "source": [
    "#Add New York Times API Key\n",
    "nyt = NYTAPI(\"AsjeHhqDYrePA2GMPpYoY1KAKAdG7P99\")\n",
    "\n",
    "data = nyt.archive_metadata(\n",
    "    date = datetime.datetime(2020, 7, 1)\n",
    ")\n",
    "\n",
    "\n",
    "def data_to_df(data):\n",
    "    # Initiate list for restructured information \n",
    "    data_list = []\n",
    "    \n",
    "    # Collect Data from API dictionary\n",
    "    for article in data: \n",
    "        new_data = [article.get(\"section_name\"),\n",
    "                     article.get(\"news_desk\"),\n",
    "                     article.get(\"pub_date\"),\n",
    "                     article.get(\"headline\").get(\"main\"),\n",
    "                     article.get(\"abstract\"),\n",
    "                     article.get(\"lead_paragraph\"),\n",
    "                     article.get(\"type_of_material\"),\n",
    "                     article.get(\"word_count\")]\n",
    "        # Append list of information from article to data list\n",
    "        data_list.append(new_data)\n",
    "    \n",
    "    # Convert data list to DataFrame\n",
    "    df = pd.DataFrame(data_list, columns=[\"section_name\",\"news_desk\", \"pub_date\", \"headline\", \"abstract\", \"lead_paragraph\", \"type_of_material\", \"word_count\"])\n",
    "        \n",
    "    return df\n",
    "\n",
    "df = data_to_df(data)"
   ]
  },
  {
   "cell_type": "code",
   "execution_count": 94,
   "metadata": {},
   "outputs": [
    {
     "data": {
      "text/html": [
       "<div>\n",
       "<style scoped>\n",
       "    .dataframe tbody tr th:only-of-type {\n",
       "        vertical-align: middle;\n",
       "    }\n",
       "\n",
       "    .dataframe tbody tr th {\n",
       "        vertical-align: top;\n",
       "    }\n",
       "\n",
       "    .dataframe thead th {\n",
       "        text-align: right;\n",
       "    }\n",
       "</style>\n",
       "<table border=\"1\" class=\"dataframe\">\n",
       "  <thead>\n",
       "    <tr style=\"text-align: right;\">\n",
       "      <th></th>\n",
       "      <th>section_name</th>\n",
       "      <th>news_desk</th>\n",
       "      <th>pub_date</th>\n",
       "      <th>headline</th>\n",
       "      <th>abstract</th>\n",
       "      <th>lead_paragraph</th>\n",
       "      <th>type_of_material</th>\n",
       "      <th>word_count</th>\n",
       "    </tr>\n",
       "  </thead>\n",
       "  <tbody>\n",
       "    <tr>\n",
       "      <th>0</th>\n",
       "      <td>World</td>\n",
       "      <td>Foreign</td>\n",
       "      <td>2020-07-01T23:16:05+0000</td>\n",
       "      <td>Afghan Contractor Handed Out Russian Cash to K...</td>\n",
       "      <td>A small-time businessman became a key middlema...</td>\n",
       "      <td>KABUL, Afghanistan — He was a lowly drug smugg...</td>\n",
       "      <td>News</td>\n",
       "      <td>1219</td>\n",
       "    </tr>\n",
       "    <tr>\n",
       "      <th>1</th>\n",
       "      <td>U.S.</td>\n",
       "      <td>National</td>\n",
       "      <td>2020-07-01T14:06:12+0000</td>\n",
       "      <td>Police Clear Seattle’s Protest ‘Autonomous Zone’</td>\n",
       "      <td>The so-called Capitol Hill Organized Protest a...</td>\n",
       "      <td>SEATTLE — For weeks, officials in Seattle have...</td>\n",
       "      <td>News</td>\n",
       "      <td>1443</td>\n",
       "    </tr>\n",
       "    <tr>\n",
       "      <th>2</th>\n",
       "      <td>U.S.</td>\n",
       "      <td>Washington</td>\n",
       "      <td>2020-07-01T21:21:16+0000</td>\n",
       "      <td>Late Action on Virus Prompts Fears Over Safety...</td>\n",
       "      <td>Surging outbreaks in the U.S. Embassy and the ...</td>\n",
       "      <td>WASHINGTON — Inside the sprawling American Emb...</td>\n",
       "      <td>News</td>\n",
       "      <td>1675</td>\n",
       "    </tr>\n",
       "    <tr>\n",
       "      <th>3</th>\n",
       "      <td>Business Day</td>\n",
       "      <td>Business</td>\n",
       "      <td>2020-07-03T02:13:01+0000</td>\n",
       "      <td>Hedge Fund’s Run at Tribune Publishing Ends Wi...</td>\n",
       "      <td>Journalists have been wary of Alden Global Cap...</td>\n",
       "      <td>Alden Global Capital seemed in position this w...</td>\n",
       "      <td>News</td>\n",
       "      <td>1003</td>\n",
       "    </tr>\n",
       "    <tr>\n",
       "      <th>4</th>\n",
       "      <td>Style</td>\n",
       "      <td>Styles</td>\n",
       "      <td>2020-07-01T15:39:53+0000</td>\n",
       "      <td>‘You Can’t Just Get Up and Steal a Police Horse’</td>\n",
       "      <td>Adam Hollingsworth, known in Chicago as the Dr...</td>\n",
       "      <td>In late May, as protests against police brutal...</td>\n",
       "      <td>News</td>\n",
       "      <td>779</td>\n",
       "    </tr>\n",
       "  </tbody>\n",
       "</table>\n",
       "</div>"
      ],
      "text/plain": [
       "   section_name   news_desk                  pub_date  \\\n",
       "0         World     Foreign  2020-07-01T23:16:05+0000   \n",
       "1          U.S.    National  2020-07-01T14:06:12+0000   \n",
       "2          U.S.  Washington  2020-07-01T21:21:16+0000   \n",
       "3  Business Day    Business  2020-07-03T02:13:01+0000   \n",
       "4         Style      Styles  2020-07-01T15:39:53+0000   \n",
       "\n",
       "                                            headline  \\\n",
       "0  Afghan Contractor Handed Out Russian Cash to K...   \n",
       "1   Police Clear Seattle’s Protest ‘Autonomous Zone’   \n",
       "2  Late Action on Virus Prompts Fears Over Safety...   \n",
       "3  Hedge Fund’s Run at Tribune Publishing Ends Wi...   \n",
       "4   ‘You Can’t Just Get Up and Steal a Police Horse’   \n",
       "\n",
       "                                            abstract  \\\n",
       "0  A small-time businessman became a key middlema...   \n",
       "1  The so-called Capitol Hill Organized Protest a...   \n",
       "2  Surging outbreaks in the U.S. Embassy and the ...   \n",
       "3  Journalists have been wary of Alden Global Cap...   \n",
       "4  Adam Hollingsworth, known in Chicago as the Dr...   \n",
       "\n",
       "                                      lead_paragraph type_of_material  \\\n",
       "0  KABUL, Afghanistan — He was a lowly drug smugg...             News   \n",
       "1  SEATTLE — For weeks, officials in Seattle have...             News   \n",
       "2  WASHINGTON — Inside the sprawling American Emb...             News   \n",
       "3  Alden Global Capital seemed in position this w...             News   \n",
       "4  In late May, as protests against police brutal...             News   \n",
       "\n",
       "   word_count  \n",
       "0        1219  \n",
       "1        1443  \n",
       "2        1675  \n",
       "3        1003  \n",
       "4         779  "
      ]
     },
     "execution_count": 94,
     "metadata": {},
     "output_type": "execute_result"
    }
   ],
   "source": [
    "df.head()"
   ]
  },
  {
   "cell_type": "markdown",
   "metadata": {},
   "source": [
    "## Chart One"
   ]
  },
  {
   "cell_type": "code",
   "execution_count": 92,
   "metadata": {},
   "outputs": [],
   "source": [
    "# first chart plots section distribution\n",
    "# as a pie chart\n",
    "graph_one = []\n",
    "df_one = df.copy()\n",
    "\n",
    "# filter and sort values for the visualization\n",
    "# filtering plots the articles in decreasing order by their values\n",
    "labels = df_one.section_name.value_counts().index\n",
    "values = df_one.section_name.value_counts().values\n",
    "\n",
    "fig = graph_one.append(\n",
    "    go.Pie(\n",
    "        labels=labels,\n",
    "        values=values\n",
    "    )\n",
    ")\n",
    "\n",
    "layout_one = dict(title = 'Distribution of sections of this months New York Times articles')"
   ]
  },
  {
   "cell_type": "markdown",
   "metadata": {},
   "source": [
    "## Chart Two"
   ]
  },
  {
   "cell_type": "code",
   "execution_count": null,
   "metadata": {},
   "outputs": [],
   "source": [
    "# second chart plots section distribution\n",
    "# as a pie chart\n",
    "graph_two = []\n",
    "df_two = df.copy()\n",
    "\n",
    "# filter and sort values for the visualization\n",
    "# filtering plots the articles in decreasing order by their values\n",
    "labels = df_two.section_name.value_counts().index\n",
    "values = df_two.section_name.value_counts().values\n",
    "\n",
    "graph_two.append(\n",
    "    go.Pie(\n",
    "        labels=labels,\n",
    "        values=values\n",
    "    )\n",
    ")\n",
    "\n",
    "layout_two = dict(title = 'Distribution of sections of this months New York Times articles')"
   ]
  },
  {
   "cell_type": "markdown",
   "metadata": {},
   "source": [
    "## Chart Three"
   ]
  },
  {
   "cell_type": "code",
   "execution_count": null,
   "metadata": {},
   "outputs": [],
   "source": [
    "# third chart plots section distribution\n",
    "# as a pie chart\n",
    "graph_three = []\n",
    "df_three = df.copy()\n",
    "\n",
    "# filter and sort values for the visualization\n",
    "# filtering plots the articles in decreasing order by their values\n",
    "labels = df_three.section_name.value_counts().index\n",
    "values = df_three.section_name.value_counts().values\n",
    "\n",
    "graph_three.append(\n",
    "    go.Pie(\n",
    "        labels=labels,\n",
    "        values=values\n",
    "    )\n",
    ")\n",
    "\n",
    "layout_three = dict(title = 'Distribution of sections of this months New York Times articles')"
   ]
  },
  {
   "cell_type": "markdown",
   "metadata": {},
   "source": [
    "## Chart Four"
   ]
  },
  {
   "cell_type": "code",
   "execution_count": null,
   "metadata": {},
   "outputs": [],
   "source": [
    "# fourth chart plots section distribution\n",
    "# as a pie chart\n",
    "graph_four = []\n",
    "df_four = df.copy()\n",
    "\n",
    "# filter and sort values for the visualization\n",
    "# filtering plots the articles in decreasing order by their values\n",
    "labels = df_four.section_name.value_counts().index\n",
    "values = df_four.section_name.value_counts().values\n",
    "\n",
    "graph_four.append(\n",
    "    go.Pie(\n",
    "        labels=labels,\n",
    "        values=values\n",
    "    )\n",
    ")\n",
    "\n",
    "layout_four = dict(title = 'Distribution of sections of this months New York Times articles')"
   ]
  },
  {
   "cell_type": "markdown",
   "metadata": {},
   "source": [
    "## Average Word Counts"
   ]
  },
  {
   "cell_type": "code",
   "execution_count": 98,
   "metadata": {},
   "outputs": [],
   "source": [
    "avg_word_count = round(df.word_count.mean(),2)"
   ]
  },
  {
   "cell_type": "code",
   "execution_count": null,
   "metadata": {},
   "outputs": [],
   "source": []
  }
 ],
 "metadata": {
  "kernelspec": {
   "display_name": "Python 3",
   "language": "python",
   "name": "python3"
  },
  "language_info": {
   "codemirror_mode": {
    "name": "ipython",
    "version": 3
   },
   "file_extension": ".py",
   "mimetype": "text/x-python",
   "name": "python",
   "nbconvert_exporter": "python",
   "pygments_lexer": "ipython3",
   "version": "3.8.1"
  }
 },
 "nbformat": 4,
 "nbformat_minor": 4
}
